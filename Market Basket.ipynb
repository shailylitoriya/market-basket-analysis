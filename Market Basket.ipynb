{
 "cells": [
  {
   "cell_type": "markdown",
   "id": "9484284f-ed34-47c7-b529-148bbeed8f86",
   "metadata": {},
   "source": [
    "# Importing neccesary libraries"
   ]
  },
  {
   "cell_type": "code",
   "execution_count": 1,
   "id": "92034b80-f2c4-43a6-8057-333024405ab8",
   "metadata": {},
   "outputs": [],
   "source": [
    "import pandas as pd\n",
    "import matplotlib.pyplot as plt\n",
    "import seaborn as sns"
   ]
  },
  {
   "cell_type": "code",
   "execution_count": 2,
   "id": "7927ad12-362a-4edd-87d1-c85b9ac94f15",
   "metadata": {},
   "outputs": [
    {
     "data": {
      "text/html": [
       "<div>\n",
       "<style scoped>\n",
       "    .dataframe tbody tr th:only-of-type {\n",
       "        vertical-align: middle;\n",
       "    }\n",
       "\n",
       "    .dataframe tbody tr th {\n",
       "        vertical-align: top;\n",
       "    }\n",
       "\n",
       "    .dataframe thead th {\n",
       "        text-align: right;\n",
       "    }\n",
       "</style>\n",
       "<table border=\"1\" class=\"dataframe\">\n",
       "  <thead>\n",
       "    <tr style=\"text-align: right;\">\n",
       "      <th></th>\n",
       "      <th>Member_number</th>\n",
       "      <th>Date</th>\n",
       "      <th>itemDescription</th>\n",
       "    </tr>\n",
       "  </thead>\n",
       "  <tbody>\n",
       "    <tr>\n",
       "      <th>0</th>\n",
       "      <td>1808</td>\n",
       "      <td>21-07-2015</td>\n",
       "      <td>tropical fruit</td>\n",
       "    </tr>\n",
       "    <tr>\n",
       "      <th>1</th>\n",
       "      <td>2552</td>\n",
       "      <td>05-01-2015</td>\n",
       "      <td>whole milk</td>\n",
       "    </tr>\n",
       "    <tr>\n",
       "      <th>2</th>\n",
       "      <td>2300</td>\n",
       "      <td>19-09-2015</td>\n",
       "      <td>pip fruit</td>\n",
       "    </tr>\n",
       "    <tr>\n",
       "      <th>3</th>\n",
       "      <td>1187</td>\n",
       "      <td>12-12-2015</td>\n",
       "      <td>other vegetables</td>\n",
       "    </tr>\n",
       "    <tr>\n",
       "      <th>4</th>\n",
       "      <td>3037</td>\n",
       "      <td>01-02-2015</td>\n",
       "      <td>whole milk</td>\n",
       "    </tr>\n",
       "  </tbody>\n",
       "</table>\n",
       "</div>"
      ],
      "text/plain": [
       "   Member_number        Date   itemDescription\n",
       "0           1808  21-07-2015    tropical fruit\n",
       "1           2552  05-01-2015        whole milk\n",
       "2           2300  19-09-2015         pip fruit\n",
       "3           1187  12-12-2015  other vegetables\n",
       "4           3037  01-02-2015        whole milk"
      ]
     },
     "execution_count": 2,
     "metadata": {},
     "output_type": "execute_result"
    }
   ],
   "source": [
    "df = pd.read_csv(\"Groceries_dataset.csv\")\n",
    "df.head()"
   ]
  },
  {
   "cell_type": "markdown",
   "id": "e909252e-375d-4ce8-a60f-676d92cb3d7e",
   "metadata": {},
   "source": [
    "# Data Inspection and Transformation"
   ]
  },
  {
   "cell_type": "code",
   "execution_count": 3,
   "id": "519c3052-7fc4-4c51-b891-4c1ba08a04e9",
   "metadata": {},
   "outputs": [
    {
     "data": {
      "text/plain": [
       "(38765, 3)"
      ]
     },
     "execution_count": 3,
     "metadata": {},
     "output_type": "execute_result"
    }
   ],
   "source": [
    "df.shape"
   ]
  },
  {
   "cell_type": "code",
   "execution_count": 4,
   "id": "21e91462-8367-4223-a6ee-d95e17488678",
   "metadata": {},
   "outputs": [
    {
     "data": {
      "text/plain": [
       "Member_number      0\n",
       "Date               0\n",
       "itemDescription    0\n",
       "dtype: int64"
      ]
     },
     "execution_count": 4,
     "metadata": {},
     "output_type": "execute_result"
    }
   ],
   "source": [
    "df.isnull().sum()"
   ]
  },
  {
   "cell_type": "code",
   "execution_count": 5,
   "id": "40ddddbb-c0a2-4ddd-aed4-907150308ab7",
   "metadata": {},
   "outputs": [
    {
     "name": "stdout",
     "output_type": "stream",
     "text": [
      "<class 'pandas.core.frame.DataFrame'>\n",
      "RangeIndex: 38765 entries, 0 to 38764\n",
      "Data columns (total 3 columns):\n",
      " #   Column           Non-Null Count  Dtype \n",
      "---  ------           --------------  ----- \n",
      " 0   Member_number    38765 non-null  int64 \n",
      " 1   Date             38765 non-null  object\n",
      " 2   itemDescription  38765 non-null  object\n",
      "dtypes: int64(1), object(2)\n",
      "memory usage: 908.7+ KB\n"
     ]
    }
   ],
   "source": [
    "df.info()"
   ]
  },
  {
   "cell_type": "code",
   "execution_count": 6,
   "id": "efa27283-fc88-4be2-91c4-40fc9aed7764",
   "metadata": {},
   "outputs": [
    {
     "name": "stderr",
     "output_type": "stream",
     "text": [
      "C:\\Users\\alito\\AppData\\Local\\Temp\\ipykernel_1512\\936118274.py:1: UserWarning: Parsing dates in %d-%m-%Y format when dayfirst=False (the default) was specified. Pass `dayfirst=True` or specify a format to silence this warning.\n",
      "  df[\"Date\"] = pd.to_datetime(df[\"Date\"])\n"
     ]
    }
   ],
   "source": [
    "df[\"Date\"] = pd.to_datetime(df[\"Date\"])"
   ]
  },
  {
   "cell_type": "markdown",
   "id": "fd6cb664-b52d-4122-a2b0-7e6b8438107e",
   "metadata": {},
   "source": [
    "# Exploratory Data Analysis"
   ]
  },
  {
   "cell_type": "code",
   "execution_count": 7,
   "id": "b22a8b86-4084-4886-9166-e38832667399",
   "metadata": {},
   "outputs": [
    {
     "name": "stdout",
     "output_type": "stream",
     "text": [
      "Total number of different Customers:  3898\n"
     ]
    }
   ],
   "source": [
    "print(\"Total number of different Customers: \",df[\"Member_number\"].nunique())"
   ]
  },
  {
   "cell_type": "code",
   "execution_count": 8,
   "id": "9486c536-afc5-46c7-a8e6-ad2a7bdfa618",
   "metadata": {},
   "outputs": [
    {
     "name": "stdout",
     "output_type": "stream",
     "text": [
      "Total different Product category:  167\n"
     ]
    }
   ],
   "source": [
    "print(\"Total different Product category: \",df[\"itemDescription\"].nunique())"
   ]
  },
  {
   "cell_type": "code",
   "execution_count": 9,
   "id": "f798cc2b-2178-4623-bb1d-0e82842609f0",
   "metadata": {},
   "outputs": [
    {
     "name": "stdout",
     "output_type": "stream",
     "text": [
      "Date range: 2014-01-01 00:00:00 to 2015-12-30 00:00:00\n"
     ]
    }
   ],
   "source": [
    "print(\"Date range:\",df[\"Date\"].min(), \"to\", df['Date'].max())"
   ]
  },
  {
   "cell_type": "markdown",
   "id": "eb4e15a4-9d68-45b5-97f3-38cb1d2e0c1e",
   "metadata": {},
   "source": [
    "### Top 10 Products"
   ]
  },
  {
   "cell_type": "code",
   "execution_count": 10,
   "id": "f8ed7ab6-dfc5-476a-ae78-83857b3e6dd1",
   "metadata": {},
   "outputs": [],
   "source": [
    "top_10 = df[\"itemDescription\"].value_counts().head(10).reset_index()"
   ]
  },
  {
   "cell_type": "code",
   "execution_count": 11,
   "id": "b0e8014d-e39a-44ea-9582-a334ef4a4f19",
   "metadata": {},
   "outputs": [],
   "source": [
    "top_10.columns = ['item', 'count']"
   ]
  },
  {
   "cell_type": "code",
   "execution_count": 12,
   "id": "ba0b715b-f49f-4bd3-aa06-f9eebbfa0bf1",
   "metadata": {},
   "outputs": [
    {
     "data": {
      "text/html": [
       "<div>\n",
       "<style scoped>\n",
       "    .dataframe tbody tr th:only-of-type {\n",
       "        vertical-align: middle;\n",
       "    }\n",
       "\n",
       "    .dataframe tbody tr th {\n",
       "        vertical-align: top;\n",
       "    }\n",
       "\n",
       "    .dataframe thead th {\n",
       "        text-align: right;\n",
       "    }\n",
       "</style>\n",
       "<table border=\"1\" class=\"dataframe\">\n",
       "  <thead>\n",
       "    <tr style=\"text-align: right;\">\n",
       "      <th></th>\n",
       "      <th>item</th>\n",
       "      <th>count</th>\n",
       "    </tr>\n",
       "  </thead>\n",
       "  <tbody>\n",
       "    <tr>\n",
       "      <th>0</th>\n",
       "      <td>whole milk</td>\n",
       "      <td>2502</td>\n",
       "    </tr>\n",
       "    <tr>\n",
       "      <th>1</th>\n",
       "      <td>other vegetables</td>\n",
       "      <td>1898</td>\n",
       "    </tr>\n",
       "    <tr>\n",
       "      <th>2</th>\n",
       "      <td>rolls/buns</td>\n",
       "      <td>1716</td>\n",
       "    </tr>\n",
       "    <tr>\n",
       "      <th>3</th>\n",
       "      <td>soda</td>\n",
       "      <td>1514</td>\n",
       "    </tr>\n",
       "    <tr>\n",
       "      <th>4</th>\n",
       "      <td>yogurt</td>\n",
       "      <td>1334</td>\n",
       "    </tr>\n",
       "    <tr>\n",
       "      <th>5</th>\n",
       "      <td>root vegetables</td>\n",
       "      <td>1071</td>\n",
       "    </tr>\n",
       "    <tr>\n",
       "      <th>6</th>\n",
       "      <td>tropical fruit</td>\n",
       "      <td>1032</td>\n",
       "    </tr>\n",
       "    <tr>\n",
       "      <th>7</th>\n",
       "      <td>bottled water</td>\n",
       "      <td>933</td>\n",
       "    </tr>\n",
       "    <tr>\n",
       "      <th>8</th>\n",
       "      <td>sausage</td>\n",
       "      <td>924</td>\n",
       "    </tr>\n",
       "    <tr>\n",
       "      <th>9</th>\n",
       "      <td>citrus fruit</td>\n",
       "      <td>812</td>\n",
       "    </tr>\n",
       "  </tbody>\n",
       "</table>\n",
       "</div>"
      ],
      "text/plain": [
       "               item  count\n",
       "0        whole milk   2502\n",
       "1  other vegetables   1898\n",
       "2        rolls/buns   1716\n",
       "3              soda   1514\n",
       "4            yogurt   1334\n",
       "5   root vegetables   1071\n",
       "6    tropical fruit   1032\n",
       "7     bottled water    933\n",
       "8           sausage    924\n",
       "9      citrus fruit    812"
      ]
     },
     "execution_count": 12,
     "metadata": {},
     "output_type": "execute_result"
    }
   ],
   "source": [
    "top_10"
   ]
  },
  {
   "cell_type": "code",
   "execution_count": 13,
   "id": "a1b1ed80-d768-4dcb-97ab-4b656a31e180",
   "metadata": {},
   "outputs": [
    {
     "data": {
      "image/png": "[encoded data removed]",
      "text/plain": [
       "<Figure size 1500x900 with 1 Axes>"
      ]
     },
     "metadata": {},
     "output_type": "display_data"
    }
   ],
   "source": [
    "plt.figure(figsize=(15,9))\n",
    "sns.barplot(data = top_10,x=\"item\",y=\"count\",palette=\"winter_r\")\n",
    "plt.title(\"TOP 10 SELLING PRODUCTS\")\n",
    "plt.xlabel(\"Items\")\n",
    "plt.ylabel(\"Number of Sales\")\n",
    "plt.savefig(\"images/top_10Products.png\")\n",
    "plt.show()"
   ]
  },
  {
   "cell_type": "markdown",
   "id": "9850ad31-03d5-41bf-993c-7442bcb82acc",
   "metadata": {},
   "source": [
    " "
   ]
  },
  {
   "cell_type": "markdown",
   "id": "71530abd-06c3-4fac-8592-213f8e81ee92",
   "metadata": {},
   "source": [
    "**Whole Milk is by far the most frequently purchased item suggesting it is a staple product.\n",
    "Other popular items like vegetables, rolls, soda, yogurt and fruits indicate a typical basket includes a mix of daily essentials.\n",
    "This aligns with expectations for a supermarket where customers often purchase dairy, drinks, vegetables, and fruits.**"
   ]
  },
  {
   "cell_type": "markdown",
   "id": "9a78d08b-e5b3-4b0f-be53-4035e96ecf92",
   "metadata": {},
   "source": [
    " "
   ]
  },
  {
   "cell_type": "markdown",
   "id": "324eb386-564f-4b16-8bf2-f16f111eef54",
   "metadata": {},
   "source": [
    "### Items sold over time"
   ]
  },
  {
   "cell_type": "code",
   "execution_count": 14,
   "id": "d6aa6b99-f79b-4e6e-9c4b-eec663bdade3",
   "metadata": {},
   "outputs": [],
   "source": [
    "sales = df.groupby(\"Date\")[\"itemDescription\"].count().reset_index()"
   ]
  },
  {
   "cell_type": "code",
   "execution_count": 15,
   "id": "7a1f8738-c669-4691-b6a5-aa7009de2b51",
   "metadata": {},
   "outputs": [],
   "source": [
    "sales.columns = [\"Date\",\"item\"]"
   ]
  },
  {
   "cell_type": "code",
   "execution_count": 16,
   "id": "4099e5c0-a2c7-4e4d-8887-37fa6f6fe19a",
   "metadata": {},
   "outputs": [
    {
     "data": {
      "text/html": [
       "<div>\n",
       "<style scoped>\n",
       "    .dataframe tbody tr th:only-of-type {\n",
       "        vertical-align: middle;\n",
       "    }\n",
       "\n",
       "    .dataframe tbody tr th {\n",
       "        vertical-align: top;\n",
       "    }\n",
       "\n",
       "    .dataframe thead th {\n",
       "        text-align: right;\n",
       "    }\n",
       "</style>\n",
       "<table border=\"1\" class=\"dataframe\">\n",
       "  <thead>\n",
       "    <tr style=\"text-align: right;\">\n",
       "      <th></th>\n",
       "      <th>Date</th>\n",
       "      <th>item</th>\n",
       "    </tr>\n",
       "  </thead>\n",
       "  <tbody>\n",
       "    <tr>\n",
       "      <th>0</th>\n",
       "      <td>2014-01-01</td>\n",
       "      <td>48</td>\n",
       "    </tr>\n",
       "    <tr>\n",
       "      <th>1</th>\n",
       "      <td>2014-01-02</td>\n",
       "      <td>55</td>\n",
       "    </tr>\n",
       "    <tr>\n",
       "      <th>2</th>\n",
       "      <td>2014-01-03</td>\n",
       "      <td>46</td>\n",
       "    </tr>\n",
       "    <tr>\n",
       "      <th>3</th>\n",
       "      <td>2014-01-04</td>\n",
       "      <td>39</td>\n",
       "    </tr>\n",
       "    <tr>\n",
       "      <th>4</th>\n",
       "      <td>2014-01-05</td>\n",
       "      <td>59</td>\n",
       "    </tr>\n",
       "    <tr>\n",
       "      <th>...</th>\n",
       "      <td>...</td>\n",
       "      <td>...</td>\n",
       "    </tr>\n",
       "    <tr>\n",
       "      <th>723</th>\n",
       "      <td>2015-12-26</td>\n",
       "      <td>37</td>\n",
       "    </tr>\n",
       "    <tr>\n",
       "      <th>724</th>\n",
       "      <td>2015-12-27</td>\n",
       "      <td>74</td>\n",
       "    </tr>\n",
       "    <tr>\n",
       "      <th>725</th>\n",
       "      <td>2015-12-28</td>\n",
       "      <td>58</td>\n",
       "    </tr>\n",
       "    <tr>\n",
       "      <th>726</th>\n",
       "      <td>2015-12-29</td>\n",
       "      <td>57</td>\n",
       "    </tr>\n",
       "    <tr>\n",
       "      <th>727</th>\n",
       "      <td>2015-12-30</td>\n",
       "      <td>53</td>\n",
       "    </tr>\n",
       "  </tbody>\n",
       "</table>\n",
       "<p>728 rows × 2 columns</p>\n",
       "</div>"
      ],
      "text/plain": [
       "          Date  item\n",
       "0   2014-01-01    48\n",
       "1   2014-01-02    55\n",
       "2   2014-01-03    46\n",
       "3   2014-01-04    39\n",
       "4   2014-01-05    59\n",
       "..         ...   ...\n",
       "723 2015-12-26    37\n",
       "724 2015-12-27    74\n",
       "725 2015-12-28    58\n",
       "726 2015-12-29    57\n",
       "727 2015-12-30    53\n",
       "\n",
       "[728 rows x 2 columns]"
      ]
     },
     "execution_count": 16,
     "metadata": {},
     "output_type": "execute_result"
    }
   ],
   "source": [
    "sales"
   ]
  },
  {
   "cell_type": "code",
   "execution_count": 17,
   "id": "7bc7c636-5aef-4cae-a586-0184dd98a5a4",
   "metadata": {},
   "outputs": [
    {
     "name": "stderr",
     "output_type": "stream",
     "text": [
      "C:\\Users\\alito\\anaconda3\\Lib\\site-packages\\seaborn\\_oldcore.py:1119: FutureWarning: use_inf_as_na option is deprecated and will be removed in a future version. Convert inf values to NaN before operating instead.\n",
      "  with pd.option_context('mode.use_inf_as_na', True):\n",
      "C:\\Users\\alito\\anaconda3\\Lib\\site-packages\\seaborn\\_oldcore.py:1119: FutureWarning: use_inf_as_na option is deprecated and will be removed in a future version. Convert inf values to NaN before operating instead.\n",
      "  with pd.option_context('mode.use_inf_as_na', True):\n"
     ]
    },
    {
     "data": {
      "image/png": "[encoded data removed]",
      "text/plain": [
       "<Figure size 1300x400 with 1 Axes>"
      ]
     },
     "metadata": {},
     "output_type": "display_data"
    }
   ],
   "source": [
    "plt.figure(figsize=(13,4))\n",
    "sns.lineplot(data = sales,x=\"Date\",y=\"item\",color = \"teal\")\n",
    "plt.title(\"Items Sold Daily\")\n",
    "plt.xlabel(\"Date\")\n",
    "plt.ylabel(\"Number of Items\")\n",
    "plt.grid(True)\n",
    "plt.tight_layout()\n",
    "plt.savefig(\"images/itemsSolddaily.png\")\n",
    "plt.show()"
   ]
  },
  {
   "cell_type": "markdown",
   "id": "15fcd9a8-6a01-4ac9-a1e9-b663d78a8a23",
   "metadata": {},
   "source": [
    " "
   ]
  },
  {
   "cell_type": "markdown",
   "id": "9549fc60-055a-478a-8f9b-bc717d3ee7eb",
   "metadata": {},
   "source": [
    "**Daily item sales mostly range between 40 to 70 items per day across the 2 year period. This indicates a fairly consistent customer base and purchasing behavior over time. \n",
    "There are noticeable spikes where item sales go above 80 or even 90, which might correspond to:\n",
    "Weekends or end-of-month shopping. Special events, holidays, or promotions.**\n",
    "\n",
    "**Several dips below 30 items suggest days of low activity, possibly due to:\n",
    "Holidays (store closed). Data gaps (missing transaction records).\n",
    "Seasonal inactivity.**"
   ]
  },
  {
   "cell_type": "markdown",
   "id": "0189839e-7956-43c7-bbaf-31147a819042",
   "metadata": {},
   "source": [
    " "
   ]
  },
  {
   "cell_type": "markdown",
   "id": "17c3a365-831a-41eb-93a7-2f0da48c37f8",
   "metadata": {},
   "source": [
    "### Monthly Analysis"
   ]
  },
  {
   "cell_type": "code",
   "execution_count": 18,
   "id": "5a9af5f0-b8e9-4ffe-a6bb-85566ae90e95",
   "metadata": {},
   "outputs": [],
   "source": [
    "df[\"Month\"] = df[\"Date\"].dt.to_period('M')"
   ]
  },
  {
   "cell_type": "code",
   "execution_count": 19,
   "id": "c3736b03-b91e-4440-8161-9f02f320d2e5",
   "metadata": {},
   "outputs": [],
   "source": [
    "monthly_sales = df.groupby(\"Month\")[\"itemDescription\"].count().reset_index()"
   ]
  },
  {
   "cell_type": "code",
   "execution_count": 20,
   "id": "4ec588de-6b42-41ef-98ef-c836dab6c535",
   "metadata": {},
   "outputs": [
    {
     "data": {
      "text/html": [
       "<div>\n",
       "<style scoped>\n",
       "    .dataframe tbody tr th:only-of-type {\n",
       "        vertical-align: middle;\n",
       "    }\n",
       "\n",
       "    .dataframe tbody tr th {\n",
       "        vertical-align: top;\n",
       "    }\n",
       "\n",
       "    .dataframe thead th {\n",
       "        text-align: right;\n",
       "    }\n",
       "</style>\n",
       "<table border=\"1\" class=\"dataframe\">\n",
       "  <thead>\n",
       "    <tr style=\"text-align: right;\">\n",
       "      <th></th>\n",
       "      <th>Month</th>\n",
       "      <th>itemDescription</th>\n",
       "    </tr>\n",
       "  </thead>\n",
       "  <tbody>\n",
       "    <tr>\n",
       "      <th>0</th>\n",
       "      <td>2014-01</td>\n",
       "      <td>1527</td>\n",
       "    </tr>\n",
       "    <tr>\n",
       "      <th>1</th>\n",
       "      <td>2014-02</td>\n",
       "      <td>1437</td>\n",
       "    </tr>\n",
       "    <tr>\n",
       "      <th>2</th>\n",
       "      <td>2014-03</td>\n",
       "      <td>1411</td>\n",
       "    </tr>\n",
       "    <tr>\n",
       "      <th>3</th>\n",
       "      <td>2014-04</td>\n",
       "      <td>1561</td>\n",
       "    </tr>\n",
       "    <tr>\n",
       "      <th>4</th>\n",
       "      <td>2014-05</td>\n",
       "      <td>1615</td>\n",
       "    </tr>\n",
       "    <tr>\n",
       "      <th>5</th>\n",
       "      <td>2014-06</td>\n",
       "      <td>1570</td>\n",
       "    </tr>\n",
       "    <tr>\n",
       "      <th>6</th>\n",
       "      <td>2014-07</td>\n",
       "      <td>1576</td>\n",
       "    </tr>\n",
       "    <tr>\n",
       "      <th>7</th>\n",
       "      <td>2014-08</td>\n",
       "      <td>1575</td>\n",
       "    </tr>\n",
       "    <tr>\n",
       "      <th>8</th>\n",
       "      <td>2014-09</td>\n",
       "      <td>1472</td>\n",
       "    </tr>\n",
       "    <tr>\n",
       "      <th>9</th>\n",
       "      <td>2014-10</td>\n",
       "      <td>1591</td>\n",
       "    </tr>\n",
       "    <tr>\n",
       "      <th>10</th>\n",
       "      <td>2014-11</td>\n",
       "      <td>1469</td>\n",
       "    </tr>\n",
       "    <tr>\n",
       "      <th>11</th>\n",
       "      <td>2014-12</td>\n",
       "      <td>1473</td>\n",
       "    </tr>\n",
       "    <tr>\n",
       "      <th>12</th>\n",
       "      <td>2015-01</td>\n",
       "      <td>1797</td>\n",
       "    </tr>\n",
       "    <tr>\n",
       "      <th>13</th>\n",
       "      <td>2015-02</td>\n",
       "      <td>1560</td>\n",
       "    </tr>\n",
       "    <tr>\n",
       "      <th>14</th>\n",
       "      <td>2015-03</td>\n",
       "      <td>1722</td>\n",
       "    </tr>\n",
       "    <tr>\n",
       "      <th>15</th>\n",
       "      <td>2015-04</td>\n",
       "      <td>1699</td>\n",
       "    </tr>\n",
       "    <tr>\n",
       "      <th>16</th>\n",
       "      <td>2015-05</td>\n",
       "      <td>1793</td>\n",
       "    </tr>\n",
       "    <tr>\n",
       "      <th>17</th>\n",
       "      <td>2015-06</td>\n",
       "      <td>1694</td>\n",
       "    </tr>\n",
       "    <tr>\n",
       "      <th>18</th>\n",
       "      <td>2015-07</td>\n",
       "      <td>1724</td>\n",
       "    </tr>\n",
       "    <tr>\n",
       "      <th>19</th>\n",
       "      <td>2015-08</td>\n",
       "      <td>1921</td>\n",
       "    </tr>\n",
       "    <tr>\n",
       "      <th>20</th>\n",
       "      <td>2015-09</td>\n",
       "      <td>1587</td>\n",
       "    </tr>\n",
       "    <tr>\n",
       "      <th>21</th>\n",
       "      <td>2015-10</td>\n",
       "      <td>1670</td>\n",
       "    </tr>\n",
       "    <tr>\n",
       "      <th>22</th>\n",
       "      <td>2015-11</td>\n",
       "      <td>1785</td>\n",
       "    </tr>\n",
       "    <tr>\n",
       "      <th>23</th>\n",
       "      <td>2015-12</td>\n",
       "      <td>1536</td>\n",
       "    </tr>\n",
       "  </tbody>\n",
       "</table>\n",
       "</div>"
      ],
      "text/plain": [
       "      Month  itemDescription\n",
       "0   2014-01             1527\n",
       "1   2014-02             1437\n",
       "2   2014-03             1411\n",
       "3   2014-04             1561\n",
       "4   2014-05             1615\n",
       "5   2014-06             1570\n",
       "6   2014-07             1576\n",
       "7   2014-08             1575\n",
       "8   2014-09             1472\n",
       "9   2014-10             1591\n",
       "10  2014-11             1469\n",
       "11  2014-12             1473\n",
       "12  2015-01             1797\n",
       "13  2015-02             1560\n",
       "14  2015-03             1722\n",
       "15  2015-04             1699\n",
       "16  2015-05             1793\n",
       "17  2015-06             1694\n",
       "18  2015-07             1724\n",
       "19  2015-08             1921\n",
       "20  2015-09             1587\n",
       "21  2015-10             1670\n",
       "22  2015-11             1785\n",
       "23  2015-12             1536"
      ]
     },
     "execution_count": 20,
     "metadata": {},
     "output_type": "execute_result"
    }
   ],
   "source": [
    "monthly_sales"
   ]
  },
  {
   "cell_type": "code",
   "execution_count": 21,
   "id": "329f25ff-9c88-41b5-bb52-55699dc1d80c",
   "metadata": {},
   "outputs": [],
   "source": [
    "monthly_sales.columns = [\"Month\",\"Items\"]"
   ]
  },
  {
   "cell_type": "code",
   "execution_count": 22,
   "id": "e4101b43-5f75-4abf-9543-20e9eb91f2dc",
   "metadata": {},
   "outputs": [],
   "source": [
    "monthly_sales[\"Month\"] = monthly_sales[\"Month\"].dt.to_timestamp()"
   ]
  },
  {
   "cell_type": "code",
   "execution_count": 23,
   "id": "f8b1be64-55e6-4ef5-9851-ce23bbae5029",
   "metadata": {},
   "outputs": [
    {
     "name": "stderr",
     "output_type": "stream",
     "text": [
      "C:\\Users\\alito\\anaconda3\\Lib\\site-packages\\seaborn\\_oldcore.py:1119: FutureWarning: use_inf_as_na option is deprecated and will be removed in a future version. Convert inf values to NaN before operating instead.\n",
      "  with pd.option_context('mode.use_inf_as_na', True):\n",
      "C:\\Users\\alito\\anaconda3\\Lib\\site-packages\\seaborn\\_oldcore.py:1119: FutureWarning: use_inf_as_na option is deprecated and will be removed in a future version. Convert inf values to NaN before operating instead.\n",
      "  with pd.option_context('mode.use_inf_as_na', True):\n"
     ]
    },
    {
     "data": {
      "image/png": "[encoded data removed]",
      "text/plain": [
       "<Figure size 1300x400 with 1 Axes>"
      ]
     },
     "metadata": {},
     "output_type": "display_data"
    }
   ],
   "source": [
    "plt.figure(figsize=(13,4))\n",
    "sns.lineplot(data = monthly_sales,x=\"Month\",y=\"Items\",color = \"teal\")\n",
    "plt.title(\"Items Sold Monthly\")\n",
    "plt.xlabel(\"Months\")\n",
    "plt.ylabel(\"Number of Items\")\n",
    "plt.grid(True)\n",
    "plt.tight_layout()\n",
    "plt.savefig(\"images/itemsSoldMonthly.png\")\n",
    "plt.show()"
   ]
  },
  {
   "cell_type": "markdown",
   "id": "7823c6e7-8251-47b0-b519-fa47e08e8d28",
   "metadata": {},
   "source": [
    "   "
   ]
  },
  {
   "cell_type": "markdown",
   "id": "da4b5163-167e-41af-81d8-7f624461fe9b",
   "metadata": {},
   "source": [
    "**Sales peak in August 2015, likely due to seasonal demand. December shows a dip, possibly from holidays or data gaps.**\n",
    "**January 2015 sees a spike, likely post-holiday restocking. Mid-year sales (Mar–Jul) are stable, indicating steady demand.**\n",
    "**Seasonal trends suggest planning promotions around August and January.**"
   ]
  },
  {
   "cell_type": "markdown",
   "id": "a92ec997-2db9-4c13-97bb-97ecc5d380d4",
   "metadata": {},
   "source": [
    " "
   ]
  },
  {
   "cell_type": "markdown",
   "id": "671839a8-d377-4efe-9b4f-444349116cf7",
   "metadata": {},
   "source": [
    "### Basket Size Distribution"
   ]
  },
  {
   "cell_type": "code",
   "execution_count": 24,
   "id": "80012851-fad9-4c56-afd0-0df7d4ec64b4",
   "metadata": {},
   "outputs": [],
   "source": [
    "basket_sizes = df.groupby([\"Member_number\",\"Date\"])[\"itemDescription\"].count().reset_index()"
   ]
  },
  {
   "cell_type": "code",
   "execution_count": 25,
   "id": "24e30694-98e7-4dd8-989a-b4a22dccc022",
   "metadata": {},
   "outputs": [
    {
     "data": {
      "image/png": "[encoded data removed]",
      "text/plain": [
       "<Figure size 640x480 with 1 Axes>"
      ]
     },
     "metadata": {},
     "output_type": "display_data"
    }
   ],
   "source": [
    "basket_sizes = df.groupby(['Member_number', 'Date'])['itemDescription'].count()\n",
    "basket_sizes.plot(kind='hist', bins=20, title='Basket Size Distribution', color='orange')\n",
    "plt.xlabel('Items per Basket')\n",
    "plt.savefig(\"images/basket_size_distribution.png\")\n",
    "plt.show()"
   ]
  },
  {
   "cell_type": "markdown",
   "id": "0441c41e-7134-434d-8853-22472d022bcb",
   "metadata": {},
   "source": [
    "  "
   ]
  },
  {
   "cell_type": "markdown",
   "id": "f79e2711-f569-4581-9635-497a2e6903bd",
   "metadata": {},
   "source": [
    "**Most baskets contain only 2 items with frequency over 10,000. A few baskets have 3–5 items and very few exceed that.**\n",
    "**This suggests that shoppers mostly buy in small quantities making quick and frequent visits and also buying for immediate consumption rather than stockpiling.**"
   ]
  },
  {
   "cell_type": "markdown",
   "id": "4556f06c-d493-4187-8193-1337def751bd",
   "metadata": {},
   "source": [
    "  "
   ]
  },
  {
   "cell_type": "markdown",
   "id": "e9a54d96-1c3d-40f4-be53-3f68624aa308",
   "metadata": {},
   "source": [
    "# Market Basket Analysis"
   ]
  },
  {
   "cell_type": "code",
   "execution_count": 26,
   "id": "008f0dec-1c63-4b4c-83af-2805b720fb8c",
   "metadata": {},
   "outputs": [],
   "source": [
    "transaction = df.groupby([\"Member_number\",\"Date\"])[\"itemDescription\"].apply(list).values.tolist()"
   ]
  },
  {
   "cell_type": "code",
   "execution_count": 27,
   "id": "93725f69-075c-41b6-a8a6-62d667f92d21",
   "metadata": {},
   "outputs": [],
   "source": [
    "# Convert to transaction format\n",
    "from mlxtend.preprocessing import TransactionEncoder"
   ]
  },
  {
   "cell_type": "code",
   "execution_count": 28,
   "id": "d9541147-7c49-471a-bace-f236f36ef16b",
   "metadata": {},
   "outputs": [],
   "source": [
    "te = TransactionEncoder()\n",
    "te_new = te.fit_transform(transaction)"
   ]
  },
  {
   "cell_type": "code",
   "execution_count": 29,
   "id": "4dbff9c1-c17d-44f7-95f2-eb5f2c16e38a",
   "metadata": {},
   "outputs": [],
   "source": [
    "df_new = pd.DataFrame(te_new,columns=te.columns_)"
   ]
  },
  {
   "cell_type": "code",
   "execution_count": 30,
   "id": "189ec74d-cba1-41e0-ba44-fe494d758292",
   "metadata": {},
   "outputs": [
    {
     "data": {
      "text/html": [
       "<div>\n",
       "<style scoped>\n",
       "    .dataframe tbody tr th:only-of-type {\n",
       "        vertical-align: middle;\n",
       "    }\n",
       "\n",
       "    .dataframe tbody tr th {\n",
       "        vertical-align: top;\n",
       "    }\n",
       "\n",
       "    .dataframe thead th {\n",
       "        text-align: right;\n",
       "    }\n",
       "</style>\n",
       "<table border=\"1\" class=\"dataframe\">\n",
       "  <thead>\n",
       "    <tr style=\"text-align: right;\">\n",
       "      <th></th>\n",
       "      <th>Instant food products</th>\n",
       "      <th>UHT-milk</th>\n",
       "      <th>abrasive cleaner</th>\n",
       "      <th>artif. sweetener</th>\n",
       "      <th>baby cosmetics</th>\n",
       "      <th>bags</th>\n",
       "      <th>baking powder</th>\n",
       "      <th>bathroom cleaner</th>\n",
       "      <th>beef</th>\n",
       "      <th>berries</th>\n",
       "      <th>...</th>\n",
       "      <th>turkey</th>\n",
       "      <th>vinegar</th>\n",
       "      <th>waffles</th>\n",
       "      <th>whipped/sour cream</th>\n",
       "      <th>whisky</th>\n",
       "      <th>white bread</th>\n",
       "      <th>white wine</th>\n",
       "      <th>whole milk</th>\n",
       "      <th>yogurt</th>\n",
       "      <th>zwieback</th>\n",
       "    </tr>\n",
       "  </thead>\n",
       "  <tbody>\n",
       "    <tr>\n",
       "      <th>0</th>\n",
       "      <td>False</td>\n",
       "      <td>False</td>\n",
       "      <td>False</td>\n",
       "      <td>False</td>\n",
       "      <td>False</td>\n",
       "      <td>False</td>\n",
       "      <td>False</td>\n",
       "      <td>False</td>\n",
       "      <td>False</td>\n",
       "      <td>False</td>\n",
       "      <td>...</td>\n",
       "      <td>False</td>\n",
       "      <td>False</td>\n",
       "      <td>False</td>\n",
       "      <td>False</td>\n",
       "      <td>False</td>\n",
       "      <td>False</td>\n",
       "      <td>False</td>\n",
       "      <td>True</td>\n",
       "      <td>False</td>\n",
       "      <td>False</td>\n",
       "    </tr>\n",
       "    <tr>\n",
       "      <th>1</th>\n",
       "      <td>False</td>\n",
       "      <td>False</td>\n",
       "      <td>False</td>\n",
       "      <td>False</td>\n",
       "      <td>False</td>\n",
       "      <td>False</td>\n",
       "      <td>False</td>\n",
       "      <td>False</td>\n",
       "      <td>False</td>\n",
       "      <td>False</td>\n",
       "      <td>...</td>\n",
       "      <td>False</td>\n",
       "      <td>False</td>\n",
       "      <td>False</td>\n",
       "      <td>False</td>\n",
       "      <td>False</td>\n",
       "      <td>False</td>\n",
       "      <td>False</td>\n",
       "      <td>True</td>\n",
       "      <td>True</td>\n",
       "      <td>False</td>\n",
       "    </tr>\n",
       "    <tr>\n",
       "      <th>2</th>\n",
       "      <td>False</td>\n",
       "      <td>False</td>\n",
       "      <td>False</td>\n",
       "      <td>False</td>\n",
       "      <td>False</td>\n",
       "      <td>False</td>\n",
       "      <td>False</td>\n",
       "      <td>False</td>\n",
       "      <td>False</td>\n",
       "      <td>False</td>\n",
       "      <td>...</td>\n",
       "      <td>False</td>\n",
       "      <td>False</td>\n",
       "      <td>False</td>\n",
       "      <td>False</td>\n",
       "      <td>False</td>\n",
       "      <td>False</td>\n",
       "      <td>False</td>\n",
       "      <td>False</td>\n",
       "      <td>False</td>\n",
       "      <td>False</td>\n",
       "    </tr>\n",
       "    <tr>\n",
       "      <th>3</th>\n",
       "      <td>False</td>\n",
       "      <td>False</td>\n",
       "      <td>False</td>\n",
       "      <td>False</td>\n",
       "      <td>False</td>\n",
       "      <td>False</td>\n",
       "      <td>False</td>\n",
       "      <td>False</td>\n",
       "      <td>False</td>\n",
       "      <td>False</td>\n",
       "      <td>...</td>\n",
       "      <td>False</td>\n",
       "      <td>False</td>\n",
       "      <td>False</td>\n",
       "      <td>False</td>\n",
       "      <td>False</td>\n",
       "      <td>False</td>\n",
       "      <td>False</td>\n",
       "      <td>False</td>\n",
       "      <td>False</td>\n",
       "      <td>False</td>\n",
       "    </tr>\n",
       "    <tr>\n",
       "      <th>4</th>\n",
       "      <td>False</td>\n",
       "      <td>False</td>\n",
       "      <td>False</td>\n",
       "      <td>False</td>\n",
       "      <td>False</td>\n",
       "      <td>False</td>\n",
       "      <td>False</td>\n",
       "      <td>False</td>\n",
       "      <td>False</td>\n",
       "      <td>False</td>\n",
       "      <td>...</td>\n",
       "      <td>False</td>\n",
       "      <td>False</td>\n",
       "      <td>False</td>\n",
       "      <td>False</td>\n",
       "      <td>False</td>\n",
       "      <td>False</td>\n",
       "      <td>False</td>\n",
       "      <td>False</td>\n",
       "      <td>False</td>\n",
       "      <td>False</td>\n",
       "    </tr>\n",
       "  </tbody>\n",
       "</table>\n",
       "<p>5 rows × 167 columns</p>\n",
       "</div>"
      ],
      "text/plain": [
       "   Instant food products  UHT-milk  abrasive cleaner  artif. sweetener  \\\n",
       "0                  False     False             False             False   \n",
       "1                  False     False             False             False   \n",
       "2                  False     False             False             False   \n",
       "3                  False     False             False             False   \n",
       "4                  False     False             False             False   \n",
       "\n",
       "   baby cosmetics   bags  baking powder  bathroom cleaner   beef  berries  \\\n",
       "0           False  False          False             False  False    False   \n",
       "1           False  False          False             False  False    False   \n",
       "2           False  False          False             False  False    False   \n",
       "3           False  False          False             False  False    False   \n",
       "4           False  False          False             False  False    False   \n",
       "\n",
       "   ...  turkey  vinegar  waffles  whipped/sour cream  whisky  white bread  \\\n",
       "0  ...   False    False    False               False   False        False   \n",
       "1  ...   False    False    False               False   False        False   \n",
       "2  ...   False    False    False               False   False        False   \n",
       "3  ...   False    False    False               False   False        False   \n",
       "4  ...   False    False    False               False   False        False   \n",
       "\n",
       "   white wine  whole milk  yogurt  zwieback  \n",
       "0       False        True   False     False  \n",
       "1       False        True    True     False  \n",
       "2       False       False   False     False  \n",
       "3       False       False   False     False  \n",
       "4       False       False   False     False  \n",
       "\n",
       "[5 rows x 167 columns]"
      ]
     },
     "execution_count": 30,
     "metadata": {},
     "output_type": "execute_result"
    }
   ],
   "source": [
    "df_new.head()"
   ]
  },
  {
   "cell_type": "markdown",
   "id": "9b17c130-431a-423a-bfdb-6817f5200650",
   "metadata": {},
   "source": [
    "### Apriori algorithm"
   ]
  },
  {
   "cell_type": "code",
   "execution_count": 31,
   "id": "88513d96-adf0-414b-a7fd-4b1d9b6d169c",
   "metadata": {},
   "outputs": [],
   "source": [
    "from mlxtend.frequent_patterns import apriori"
   ]
  },
  {
   "cell_type": "code",
   "execution_count": 32,
   "id": "c2f6a99c-332b-49bc-ac6b-ea1025ddca46",
   "metadata": {},
   "outputs": [],
   "source": [
    "frequent_items = apriori(df_new,min_support = 0.005,use_colnames = True)"
   ]
  },
  {
   "cell_type": "code",
   "execution_count": 33,
   "id": "a2857811-4c7e-4d43-acc2-e44a43b983f1",
   "metadata": {},
   "outputs": [
    {
     "data": {
      "text/html": [
       "<div>\n",
       "<style scoped>\n",
       "    .dataframe tbody tr th:only-of-type {\n",
       "        vertical-align: middle;\n",
       "    }\n",
       "\n",
       "    .dataframe tbody tr th {\n",
       "        vertical-align: top;\n",
       "    }\n",
       "\n",
       "    .dataframe thead th {\n",
       "        text-align: right;\n",
       "    }\n",
       "</style>\n",
       "<table border=\"1\" class=\"dataframe\">\n",
       "  <thead>\n",
       "    <tr style=\"text-align: right;\">\n",
       "      <th></th>\n",
       "      <th>support</th>\n",
       "      <th>itemsets</th>\n",
       "    </tr>\n",
       "  </thead>\n",
       "  <tbody>\n",
       "    <tr>\n",
       "      <th>0</th>\n",
       "      <td>0.021386</td>\n",
       "      <td>(UHT-milk)</td>\n",
       "    </tr>\n",
       "    <tr>\n",
       "      <th>1</th>\n",
       "      <td>0.008087</td>\n",
       "      <td>(baking powder)</td>\n",
       "    </tr>\n",
       "    <tr>\n",
       "      <th>2</th>\n",
       "      <td>0.033950</td>\n",
       "      <td>(beef)</td>\n",
       "    </tr>\n",
       "    <tr>\n",
       "      <th>3</th>\n",
       "      <td>0.021787</td>\n",
       "      <td>(berries)</td>\n",
       "    </tr>\n",
       "    <tr>\n",
       "      <th>4</th>\n",
       "      <td>0.016574</td>\n",
       "      <td>(beverages)</td>\n",
       "    </tr>\n",
       "    <tr>\n",
       "      <th>...</th>\n",
       "      <td>...</td>\n",
       "      <td>...</td>\n",
       "    </tr>\n",
       "    <tr>\n",
       "      <th>121</th>\n",
       "      <td>0.011629</td>\n",
       "      <td>(whole milk, soda)</td>\n",
       "    </tr>\n",
       "    <tr>\n",
       "      <th>122</th>\n",
       "      <td>0.005814</td>\n",
       "      <td>(yogurt, soda)</td>\n",
       "    </tr>\n",
       "    <tr>\n",
       "      <th>123</th>\n",
       "      <td>0.008220</td>\n",
       "      <td>(whole milk, tropical fruit)</td>\n",
       "    </tr>\n",
       "    <tr>\n",
       "      <th>124</th>\n",
       "      <td>0.005213</td>\n",
       "      <td>(yogurt, tropical fruit)</td>\n",
       "    </tr>\n",
       "    <tr>\n",
       "      <th>125</th>\n",
       "      <td>0.011161</td>\n",
       "      <td>(whole milk, yogurt)</td>\n",
       "    </tr>\n",
       "  </tbody>\n",
       "</table>\n",
       "<p>126 rows × 2 columns</p>\n",
       "</div>"
      ],
      "text/plain": [
       "      support                      itemsets\n",
       "0    0.021386                    (UHT-milk)\n",
       "1    0.008087               (baking powder)\n",
       "2    0.033950                        (beef)\n",
       "3    0.021787                     (berries)\n",
       "4    0.016574                   (beverages)\n",
       "..        ...                           ...\n",
       "121  0.011629            (whole milk, soda)\n",
       "122  0.005814                (yogurt, soda)\n",
       "123  0.008220  (whole milk, tropical fruit)\n",
       "124  0.005213      (yogurt, tropical fruit)\n",
       "125  0.011161          (whole milk, yogurt)\n",
       "\n",
       "[126 rows x 2 columns]"
      ]
     },
     "execution_count": 33,
     "metadata": {},
     "output_type": "execute_result"
    }
   ],
   "source": [
    "frequent_items"
   ]
  },
  {
   "cell_type": "code",
   "execution_count": 34,
   "id": "0c9e45d9-a030-4841-952a-7078cacc0bfd",
   "metadata": {},
   "outputs": [
    {
     "data": {
      "text/html": [
       "<div>\n",
       "<style scoped>\n",
       "    .dataframe tbody tr th:only-of-type {\n",
       "        vertical-align: middle;\n",
       "    }\n",
       "\n",
       "    .dataframe tbody tr th {\n",
       "        vertical-align: top;\n",
       "    }\n",
       "\n",
       "    .dataframe thead th {\n",
       "        text-align: right;\n",
       "    }\n",
       "</style>\n",
       "<table border=\"1\" class=\"dataframe\">\n",
       "  <thead>\n",
       "    <tr style=\"text-align: right;\">\n",
       "      <th></th>\n",
       "      <th>support</th>\n",
       "      <th>itemsets</th>\n",
       "    </tr>\n",
       "  </thead>\n",
       "  <tbody>\n",
       "    <tr>\n",
       "      <th>87</th>\n",
       "      <td>0.157923</td>\n",
       "      <td>(whole milk)</td>\n",
       "    </tr>\n",
       "    <tr>\n",
       "      <th>53</th>\n",
       "      <td>0.122101</td>\n",
       "      <td>(other vegetables)</td>\n",
       "    </tr>\n",
       "    <tr>\n",
       "      <th>66</th>\n",
       "      <td>0.110005</td>\n",
       "      <td>(rolls/buns)</td>\n",
       "    </tr>\n",
       "    <tr>\n",
       "      <th>75</th>\n",
       "      <td>0.097106</td>\n",
       "      <td>(soda)</td>\n",
       "    </tr>\n",
       "    <tr>\n",
       "      <th>88</th>\n",
       "      <td>0.085879</td>\n",
       "      <td>(yogurt)</td>\n",
       "    </tr>\n",
       "  </tbody>\n",
       "</table>\n",
       "</div>"
      ],
      "text/plain": [
       "     support            itemsets\n",
       "87  0.157923        (whole milk)\n",
       "53  0.122101  (other vegetables)\n",
       "66  0.110005        (rolls/buns)\n",
       "75  0.097106              (soda)\n",
       "88  0.085879            (yogurt)"
      ]
     },
     "execution_count": 34,
     "metadata": {},
     "output_type": "execute_result"
    }
   ],
   "source": [
    "frequent_items.sort_values(by=\"support\",ascending=False).head()"
   ]
  },
  {
   "cell_type": "markdown",
   "id": "82fc0b08-962f-4bfc-b517-1eb0c5cb19a4",
   "metadata": {},
   "source": [
    "### Association Rule"
   ]
  },
  {
   "cell_type": "code",
   "execution_count": 35,
   "id": "63ba29f8-111a-4d6f-b638-131f3c15fb58",
   "metadata": {},
   "outputs": [],
   "source": [
    "from mlxtend.frequent_patterns import association_rules"
   ]
  },
  {
   "cell_type": "code",
   "execution_count": 36,
   "id": "cf7d325b-5016-4517-8314-b09c04a72fc9",
   "metadata": {},
   "outputs": [],
   "source": [
    "asso_rule = association_rules(frequent_items,metric=\"confidence\",min_threshold=0.1)"
   ]
  },
  {
   "cell_type": "code",
   "execution_count": 37,
   "id": "4c437b91-a8a5-4f11-a8b2-0dac7fd064cb",
   "metadata": {},
   "outputs": [],
   "source": [
    "asso_rule = asso_rule.sort_values(by=\"confidence\",ascending=False)"
   ]
  },
  {
   "cell_type": "code",
   "execution_count": 40,
   "id": "e56f23d2-a8c7-4d56-a14f-97a008ea66e7",
   "metadata": {},
   "outputs": [
    {
     "data": {
      "text/html": [
       "<div>\n",
       "<style scoped>\n",
       "    .dataframe tbody tr th:only-of-type {\n",
       "        vertical-align: middle;\n",
       "    }\n",
       "\n",
       "    .dataframe tbody tr th {\n",
       "        vertical-align: top;\n",
       "    }\n",
       "\n",
       "    .dataframe thead th {\n",
       "        text-align: right;\n",
       "    }\n",
       "</style>\n",
       "<table border=\"1\" class=\"dataframe\">\n",
       "  <thead>\n",
       "    <tr style=\"text-align: right;\">\n",
       "      <th></th>\n",
       "      <th>antecedents</th>\n",
       "      <th>consequents</th>\n",
       "      <th>support</th>\n",
       "      <th>confidence</th>\n",
       "      <th>lift</th>\n",
       "    </tr>\n",
       "  </thead>\n",
       "  <tbody>\n",
       "    <tr>\n",
       "      <th>0</th>\n",
       "      <td>(bottled beer)</td>\n",
       "      <td>(whole milk)</td>\n",
       "      <td>0.007151</td>\n",
       "      <td>0.157817</td>\n",
       "      <td>0.999330</td>\n",
       "    </tr>\n",
       "    <tr>\n",
       "      <th>14</th>\n",
       "      <td>(sausage)</td>\n",
       "      <td>(whole milk)</td>\n",
       "      <td>0.008955</td>\n",
       "      <td>0.148394</td>\n",
       "      <td>0.939663</td>\n",
       "    </tr>\n",
       "    <tr>\n",
       "      <th>7</th>\n",
       "      <td>(newspapers)</td>\n",
       "      <td>(whole milk)</td>\n",
       "      <td>0.005614</td>\n",
       "      <td>0.144330</td>\n",
       "      <td>0.913926</td>\n",
       "    </tr>\n",
       "    <tr>\n",
       "      <th>4</th>\n",
       "      <td>(domestic eggs)</td>\n",
       "      <td>(whole milk)</td>\n",
       "      <td>0.005280</td>\n",
       "      <td>0.142342</td>\n",
       "      <td>0.901341</td>\n",
       "    </tr>\n",
       "    <tr>\n",
       "      <th>6</th>\n",
       "      <td>(frankfurter)</td>\n",
       "      <td>(whole milk)</td>\n",
       "      <td>0.005280</td>\n",
       "      <td>0.139823</td>\n",
       "      <td>0.885388</td>\n",
       "    </tr>\n",
       "    <tr>\n",
       "      <th>5</th>\n",
       "      <td>(frankfurter)</td>\n",
       "      <td>(other vegetables)</td>\n",
       "      <td>0.005146</td>\n",
       "      <td>0.136283</td>\n",
       "      <td>1.116150</td>\n",
       "    </tr>\n",
       "    <tr>\n",
       "      <th>11</th>\n",
       "      <td>(pork)</td>\n",
       "      <td>(whole milk)</td>\n",
       "      <td>0.005012</td>\n",
       "      <td>0.135135</td>\n",
       "      <td>0.855703</td>\n",
       "    </tr>\n",
       "    <tr>\n",
       "      <th>10</th>\n",
       "      <td>(pip fruit)</td>\n",
       "      <td>(whole milk)</td>\n",
       "      <td>0.006616</td>\n",
       "      <td>0.134877</td>\n",
       "      <td>0.854071</td>\n",
       "    </tr>\n",
       "    <tr>\n",
       "      <th>3</th>\n",
       "      <td>(citrus fruit)</td>\n",
       "      <td>(whole milk)</td>\n",
       "      <td>0.007151</td>\n",
       "      <td>0.134591</td>\n",
       "      <td>0.852259</td>\n",
       "    </tr>\n",
       "    <tr>\n",
       "      <th>15</th>\n",
       "      <td>(shopping bags)</td>\n",
       "      <td>(whole milk)</td>\n",
       "      <td>0.006349</td>\n",
       "      <td>0.133427</td>\n",
       "      <td>0.844887</td>\n",
       "    </tr>\n",
       "  </tbody>\n",
       "</table>\n",
       "</div>"
      ],
      "text/plain": [
       "        antecedents         consequents   support  confidence      lift\n",
       "0    (bottled beer)        (whole milk)  0.007151    0.157817  0.999330\n",
       "14        (sausage)        (whole milk)  0.008955    0.148394  0.939663\n",
       "7      (newspapers)        (whole milk)  0.005614    0.144330  0.913926\n",
       "4   (domestic eggs)        (whole milk)  0.005280    0.142342  0.901341\n",
       "6     (frankfurter)        (whole milk)  0.005280    0.139823  0.885388\n",
       "5     (frankfurter)  (other vegetables)  0.005146    0.136283  1.116150\n",
       "11           (pork)        (whole milk)  0.005012    0.135135  0.855703\n",
       "10      (pip fruit)        (whole milk)  0.006616    0.134877  0.854071\n",
       "3    (citrus fruit)        (whole milk)  0.007151    0.134591  0.852259\n",
       "15  (shopping bags)        (whole milk)  0.006349    0.133427  0.844887"
      ]
     },
     "execution_count": 40,
     "metadata": {},
     "output_type": "execute_result"
    }
   ],
   "source": [
    "# Top Rules\n",
    "asso_rule[[\"antecedents\",\"consequents\",\"support\",\"confidence\",\"lift\"]].head(10)"
   ]
  },
  {
   "cell_type": "code",
   "execution_count": 41,
   "id": "7739d6ea-963a-4d2e-bd3f-068ac2fc8955",
   "metadata": {},
   "outputs": [
    {
     "name": "stderr",
     "output_type": "stream",
     "text": [
      "C:\\Users\\alito\\anaconda3\\Lib\\site-packages\\seaborn\\_oldcore.py:1498: DeprecationWarning: is_categorical_dtype is deprecated and will be removed in a future version. Use isinstance(dtype, pd.CategoricalDtype) instead\n",
      "  if pd.api.types.is_categorical_dtype(vector):\n",
      "C:\\Users\\alito\\anaconda3\\Lib\\site-packages\\seaborn\\_oldcore.py:1498: DeprecationWarning: is_categorical_dtype is deprecated and will be removed in a future version. Use isinstance(dtype, pd.CategoricalDtype) instead\n",
      "  if pd.api.types.is_categorical_dtype(vector):\n",
      "C:\\Users\\alito\\anaconda3\\Lib\\site-packages\\seaborn\\_oldcore.py:1498: DeprecationWarning: is_categorical_dtype is deprecated and will be removed in a future version. Use isinstance(dtype, pd.CategoricalDtype) instead\n",
      "  if pd.api.types.is_categorical_dtype(vector):\n",
      "C:\\Users\\alito\\anaconda3\\Lib\\site-packages\\seaborn\\_oldcore.py:1498: DeprecationWarning: is_categorical_dtype is deprecated and will be removed in a future version. Use isinstance(dtype, pd.CategoricalDtype) instead\n",
      "  if pd.api.types.is_categorical_dtype(vector):\n"
     ]
    },
    {
     "data": {
      "image/png": "[encoded data removed]",
      "text/plain": [
       "<Figure size 800x600 with 1 Axes>"
      ]
     },
     "metadata": {},
     "output_type": "display_data"
    }
   ],
   "source": [
    "# Visulaizing Rules\n",
    "plt.figure(figsize=(8, 6))\n",
    "sns.scatterplot(data=asso_rule,x='support',y='confidence',size='lift',hue='lift',palette='cool',legend=False)\n",
    "plt.title('Support vs Confidence')\n",
    "plt.grid(True)\n",
    "plt.savefig(\"images/supportVSconfidence.png\")\n",
    "plt.show()"
   ]
  },
  {
   "cell_type": "markdown",
   "id": "1f9d29de-acff-42ee-a326-779682f75ea8",
   "metadata": {},
   "source": [
    " "
   ]
  },
  {
   "cell_type": "markdown",
   "id": "33c51c82-fd73-4191-9f83-51a7869774d8",
   "metadata": {},
   "source": [
    "**Most high-confidence rules point to “whole milk” as the consequent.\n",
    "Customers buying various items (e.g., beer, sausage, eggs) are frequently also buying whole milk, indicating it's a common staple item and good for cross-promotions.**\n",
    "\n",
    "**High Confidence But Low Support:\n",
    "Top rules have confidence > 13% but support mostly < 1%, means they have strong associations but apply to relatively fewer transactions.\n",
    "Useful for targeted marketing, not broad campaigns.**\n",
    "\n",
    "**Lift Values ≈ 0.85 – 1.11:\n",
    "Lift < 1 for most rules → the item combinations occur less often than expected by chance.**\n",
    "\n",
    "**Only one rule stands out with lift > 1:\n",
    "{frankfurter} → {other vegetables} → lift = 1.116\n",
    "Indicates a positive association worth exploring for bundle offers.**\n",
    "\n",
    "***Recommend whole milk when users add sausage, eggs, or newspapers to cart.\n",
    "Create combo offers: “Buy 2: eggs + sausage → get discount on milk”\n",
    "Promote vegetable + meat bundles due to {frankfurter → other vegetables} association.***\n"
   ]
  },
  {
   "cell_type": "markdown",
   "id": "68324ad5-bec1-436e-8eec-693cf4bb4109",
   "metadata": {},
   "source": [
    " "
   ]
  }
 ],
 "metadata": {
  "kernelspec": {
   "display_name": "Python 3 (ipykernel)",
   "language": "python",
   "name": "python3"
  },
  "language_info": {
   "codemirror_mode": {
    "name": "ipython",
    "version": 3
   },
   "file_extension": ".py",
   "mimetype": "text/x-python",
   "name": "python",
   "nbconvert_exporter": "python",
   "pygments_lexer": "ipython3",
   "version": "3.11.7"
  }
 },
 "nbformat": 4,
 "nbformat_minor": 5
}
